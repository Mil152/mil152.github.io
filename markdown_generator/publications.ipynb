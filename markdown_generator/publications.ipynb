{
 "cells": [
  {
   "cell_type": "markdown",
   "metadata": {
    "deletable": true,
    "editable": true
   },
   "source": [
    "# Publications markdown generator for academicpages\n",
    "\n",
    "Takes a TSV of publications with metadata and converts them for use with [academicpages.github.io](academicpages.github.io). This is an interactive Jupyter notebook ([see more info here](http://jupyter-notebook-beginner-guide.readthedocs.io/en/latest/what_is_jupyter.html)). The core python code is also in `publications.py`. Run either from the `markdown_generator` folder after replacing `publications.tsv` with one containing your data.\n",
    "\n",
    "TODO: Make this work with BibTex and other databases of citations, rather than Stuart's non-standard TSV format and citation style.\n"
   ]
  },
  {
   "cell_type": "markdown",
   "metadata": {},
   "source": [
    "## Data format\n",
    "\n",
    "The TSV needs to have the following columns: pub_date, title, venue, excerpt, citation, site_url, and paper_url, with a header at the top. \n",
    "\n",
    "- `excerpt` and `paper_url` can be blank, but the others must have values. \n",
    "- `pub_date` must be formatted as YYYY-MM-DD.\n",
    "- `url_slug` will be the descriptive part of the .md file and the permalink URL for the page about the paper. The .md file will be `YYYY-MM-DD-[url_slug].md` and the permalink will be `https://[yourdomain]/publications/YYYY-MM-DD-[url_slug]`\n",
    "\n",
    "This is how the raw file looks (it doesn't look pretty, use a spreadsheet or other program to edit and create)."
   ]
  },
  {
   "cell_type": "code",
   "execution_count": 2,
   "metadata": {
    "collapsed": false
   },
   "outputs": [],
   "source": [
    "!cat publications.tsv"
   ]
  },
  {
   "cell_type": "markdown",
   "metadata": {},
   "source": [
    "## Import pandas\n",
    "\n",
    "We are using the very handy pandas library for dataframes."
   ]
  },
  {
   "cell_type": "code",
   "execution_count": 1,
   "metadata": {
    "collapsed": true,
    "deletable": true,
    "editable": true
   },
   "outputs": [
    {
     "name": "stderr",
     "output_type": "stream",
     "text": [
      "C:\\Users\\26595\\AppData\\Local\\Temp\\ipykernel_14552\\4080736814.py:1: DeprecationWarning: \n",
      "Pyarrow will become a required dependency of pandas in the next major release of pandas (pandas 3.0),\n",
      "(to allow more performant data types, such as the Arrow string type, and better interoperability with other libraries)\n",
      "but was not found to be installed on your system.\n",
      "If this would cause problems for you,\n",
      "please provide us feedback at https://github.com/pandas-dev/pandas/issues/54466\n",
      "        \n",
      "  import pandas as pd\n"
     ]
    }
   ],
   "source": [
    "import pandas as pd"
   ]
  },
  {
   "cell_type": "markdown",
   "metadata": {},
   "source": [
    "## Import TSV\n",
    "\n",
    "Pandas makes this easy with the read_csv function. We are using a TSV, so we specify the separator as a tab, or `\\t`.\n",
    "\n",
    "I found it important to put this data in a tab-separated values format, because there are a lot of commas in this kind of data and comma-separated values can get messed up. However, you can modify the import statement, as pandas also has read_excel(), read_json(), and others."
   ]
  },
  {
   "cell_type": "code",
   "execution_count": 5,
   "metadata": {
    "collapsed": false,
    "deletable": true,
    "editable": true
   },
   "outputs": [
    {
     "data": {
      "text/html": [
       "<div>\n",
       "<style scoped>\n",
       "    .dataframe tbody tr th:only-of-type {\n",
       "        vertical-align: middle;\n",
       "    }\n",
       "\n",
       "    .dataframe tbody tr th {\n",
       "        vertical-align: top;\n",
       "    }\n",
       "\n",
       "    .dataframe thead th {\n",
       "        text-align: right;\n",
       "    }\n",
       "</style>\n",
       "<table border=\"1\" class=\"dataframe\">\n",
       "  <thead>\n",
       "    <tr style=\"text-align: right;\">\n",
       "      <th></th>\n",
       "      <th>pub_date</th>\n",
       "      <th>title</th>\n",
       "      <th>venue</th>\n",
       "      <th>excerpt</th>\n",
       "      <th>citation</th>\n",
       "      <th>url_slug</th>\n",
       "      <th>paper_url</th>\n",
       "    </tr>\n",
       "  </thead>\n",
       "  <tbody>\n",
       "    <tr>\n",
       "      <th>0</th>\n",
       "      <td>2022-09-01</td>\n",
       "      <td>Bayesian optimization of nanophotonic electrom...</td>\n",
       "      <td>Optics Express</td>\n",
       "      <td>Optimizing nanophotonic electromagnetic shield...</td>\n",
       "      <td>Li, Mingxuan; McCourt, Michael J; Galante, Ant...</td>\n",
       "      <td>bayesian-optimization-nanophotonic</td>\n",
       "      <td>https://www.lamp.pitt.edu/Publications/056.pdf</td>\n",
       "    </tr>\n",
       "    <tr>\n",
       "      <th>1</th>\n",
       "      <td>2022-07-01</td>\n",
       "      <td>Achieving highly conductive, stretchable, and ...</td>\n",
       "      <td>ACS Applied Polymer Materials</td>\n",
       "      <td>Method for creating highly conductive, stretch...</td>\n",
       "      <td>Galante, Anthony J; Pilsbury, Brady C; Li, Min...</td>\n",
       "      <td>highly-conductive-stretchable-fabric</td>\n",
       "      <td>https://www.lamp.pitt.edu/Publications/054.pdf</td>\n",
       "    </tr>\n",
       "    <tr>\n",
       "      <th>2</th>\n",
       "      <td>2022-01-01</td>\n",
       "      <td>Ink-coated silver films on PET for flexible, h...</td>\n",
       "      <td>ACS Applied Electronic Materials</td>\n",
       "      <td>Using ink-coated silver films on PET substrate...</td>\n",
       "      <td>Li, Mingxuan; Sinha, Sneh; Hannani, Sima; Walk...</td>\n",
       "      <td>ink-coated-silver-films</td>\n",
       "      <td>https://www.lamp.pitt.edu/Publications/058.pdf</td>\n",
       "    </tr>\n",
       "    <tr>\n",
       "      <th>3</th>\n",
       "      <td>2023-01-01</td>\n",
       "      <td>Stretchable and wash durable reactive silver i...</td>\n",
       "      <td>Progress in Organic Coatings</td>\n",
       "      <td>Stretchable, wash durable silver ink coatings ...</td>\n",
       "      <td>Li, Mingxuan; Zarei, Mehdi; Galante, Anthony J...</td>\n",
       "      <td>stretchable-wash-durable-coatings</td>\n",
       "      <td>https://www.lamp.pitt.edu/Publications/059.pdf</td>\n",
       "    </tr>\n",
       "    <tr>\n",
       "      <th>4</th>\n",
       "      <td>2023-01-01</td>\n",
       "      <td>Silver meshes for record-performance transpare...</td>\n",
       "      <td>ACS Applied Materials &amp; Interfaces</td>\n",
       "      <td>Silver meshes achieving record performance in ...</td>\n",
       "      <td>Li, Mingxuan; Zarei, Mehdi; Mohammadi, Khashay...</td>\n",
       "      <td>silver-meshes-record-performance</td>\n",
       "      <td>https://www.lamp.pitt.edu/Publications/060.pdf</td>\n",
       "    </tr>\n",
       "    <tr>\n",
       "      <th>5</th>\n",
       "      <td>2023-10-01</td>\n",
       "      <td>Substrate-embedded metal meshes for ITO-free o...</td>\n",
       "      <td>Optics Express</td>\n",
       "      <td>Metal meshes embedded in substrates for ITO-fr...</td>\n",
       "      <td>Zarei, Mehdi; Loy, James C; Li, Mingxuan; Zhou...</td>\n",
       "      <td>substrate-embedded-metal-meshes</td>\n",
       "      <td>https://www.lamp.pitt.edu/Publications/061.pdf</td>\n",
       "    </tr>\n",
       "    <tr>\n",
       "      <th>6</th>\n",
       "      <td>2024-01-01</td>\n",
       "      <td>Datasets and Benchmarks for Nanophotonic Struc...</td>\n",
       "      <td>Advances in Neural Information Processing Systems</td>\n",
       "      <td>Introducing datasets and benchmarks for simula...</td>\n",
       "      <td>Kim, Jungtaek; Li, Mingxuan; Hinder, Oliver; L...</td>\n",
       "      <td>datasets-benchmarks-nanophotonic</td>\n",
       "      <td>https://www.lamp.pitt.edu/Publications/063.pdf</td>\n",
       "    </tr>\n",
       "    <tr>\n",
       "      <th>7</th>\n",
       "      <td>2024-02-01</td>\n",
       "      <td>Multi-BOWS: multi-fidelity multi-objective Bay...</td>\n",
       "      <td>Digital Discovery</td>\n",
       "      <td>Multi-fidelity and multi-objective Bayesian op...</td>\n",
       "      <td>Kim, Jungtaek; Li, Mingxuan; Li, Yirong; Gómez...</td>\n",
       "      <td>multi-bows-nanophotonic-design</td>\n",
       "      <td>https://www.lamp.pitt.edu/Publications/064.pdf</td>\n",
       "    </tr>\n",
       "    <tr>\n",
       "      <th>8</th>\n",
       "      <td>2024-03-01</td>\n",
       "      <td>Flexible Embedded Metal Meshes by Sputter-Free...</td>\n",
       "      <td>ACS Applied Materials &amp; Interfaces</td>\n",
       "      <td>Flexible metal meshes created by sputter-free ...</td>\n",
       "      <td>Zarei, Mehdi; Li, Mingxuan; Medvedeva, Elizabe...</td>\n",
       "      <td>flex-metal-meshes-crack-lithography</td>\n",
       "      <td>https://www.lamp.pitt.edu/Publications/065.pdf</td>\n",
       "    </tr>\n",
       "  </tbody>\n",
       "</table>\n",
       "</div>"
      ],
      "text/plain": [
       "     pub_date                                              title  \\\n",
       "0  2022-09-01  Bayesian optimization of nanophotonic electrom...   \n",
       "1  2022-07-01  Achieving highly conductive, stretchable, and ...   \n",
       "2  2022-01-01  Ink-coated silver films on PET for flexible, h...   \n",
       "3  2023-01-01  Stretchable and wash durable reactive silver i...   \n",
       "4  2023-01-01  Silver meshes for record-performance transpare...   \n",
       "5  2023-10-01  Substrate-embedded metal meshes for ITO-free o...   \n",
       "6  2024-01-01  Datasets and Benchmarks for Nanophotonic Struc...   \n",
       "7  2024-02-01  Multi-BOWS: multi-fidelity multi-objective Bay...   \n",
       "8  2024-03-01  Flexible Embedded Metal Meshes by Sputter-Free...   \n",
       "\n",
       "                                               venue  \\\n",
       "0                                     Optics Express   \n",
       "1                      ACS Applied Polymer Materials   \n",
       "2                   ACS Applied Electronic Materials   \n",
       "3                       Progress in Organic Coatings   \n",
       "4                 ACS Applied Materials & Interfaces   \n",
       "5                                     Optics Express   \n",
       "6  Advances in Neural Information Processing Systems   \n",
       "7                                  Digital Discovery   \n",
       "8                 ACS Applied Materials & Interfaces   \n",
       "\n",
       "                                             excerpt  \\\n",
       "0  Optimizing nanophotonic electromagnetic shield...   \n",
       "1  Method for creating highly conductive, stretch...   \n",
       "2  Using ink-coated silver films on PET substrate...   \n",
       "3  Stretchable, wash durable silver ink coatings ...   \n",
       "4  Silver meshes achieving record performance in ...   \n",
       "5  Metal meshes embedded in substrates for ITO-fr...   \n",
       "6  Introducing datasets and benchmarks for simula...   \n",
       "7  Multi-fidelity and multi-objective Bayesian op...   \n",
       "8  Flexible metal meshes created by sputter-free ...   \n",
       "\n",
       "                                            citation  \\\n",
       "0  Li, Mingxuan; McCourt, Michael J; Galante, Ant...   \n",
       "1  Galante, Anthony J; Pilsbury, Brady C; Li, Min...   \n",
       "2  Li, Mingxuan; Sinha, Sneh; Hannani, Sima; Walk...   \n",
       "3  Li, Mingxuan; Zarei, Mehdi; Galante, Anthony J...   \n",
       "4  Li, Mingxuan; Zarei, Mehdi; Mohammadi, Khashay...   \n",
       "5  Zarei, Mehdi; Loy, James C; Li, Mingxuan; Zhou...   \n",
       "6  Kim, Jungtaek; Li, Mingxuan; Hinder, Oliver; L...   \n",
       "7  Kim, Jungtaek; Li, Mingxuan; Li, Yirong; Gómez...   \n",
       "8  Zarei, Mehdi; Li, Mingxuan; Medvedeva, Elizabe...   \n",
       "\n",
       "                               url_slug  \\\n",
       "0    bayesian-optimization-nanophotonic   \n",
       "1  highly-conductive-stretchable-fabric   \n",
       "2               ink-coated-silver-films   \n",
       "3     stretchable-wash-durable-coatings   \n",
       "4      silver-meshes-record-performance   \n",
       "5       substrate-embedded-metal-meshes   \n",
       "6      datasets-benchmarks-nanophotonic   \n",
       "7        multi-bows-nanophotonic-design   \n",
       "8   flex-metal-meshes-crack-lithography   \n",
       "\n",
       "                                        paper_url  \n",
       "0  https://www.lamp.pitt.edu/Publications/056.pdf  \n",
       "1  https://www.lamp.pitt.edu/Publications/054.pdf  \n",
       "2  https://www.lamp.pitt.edu/Publications/058.pdf  \n",
       "3  https://www.lamp.pitt.edu/Publications/059.pdf  \n",
       "4  https://www.lamp.pitt.edu/Publications/060.pdf  \n",
       "5  https://www.lamp.pitt.edu/Publications/061.pdf  \n",
       "6  https://www.lamp.pitt.edu/Publications/063.pdf  \n",
       "7  https://www.lamp.pitt.edu/Publications/064.pdf  \n",
       "8  https://www.lamp.pitt.edu/Publications/065.pdf  "
      ]
     },
     "execution_count": 5,
     "metadata": {},
     "output_type": "execute_result"
    }
   ],
   "source": [
    "publications = pd.read_csv(\"publications.tsv\", sep=\"\\t\", header=0)\n",
    "publications\n"
   ]
  },
  {
   "cell_type": "markdown",
   "metadata": {},
   "source": [
    "## Escape special characters\n",
    "\n",
    "YAML is very picky about how it takes a valid string, so we are replacing single and double quotes (and ampersands) with their HTML encoded equivilents. This makes them look not so readable in raw format, but they are parsed and rendered nicely."
   ]
  },
  {
   "cell_type": "code",
   "execution_count": 6,
   "metadata": {
    "collapsed": true,
    "deletable": true,
    "editable": true
   },
   "outputs": [],
   "source": [
    "html_escape_table = {\n",
    "    \"&\": \"&amp;\",\n",
    "    '\"': \"&quot;\",\n",
    "    \"'\": \"&apos;\"\n",
    "    }\n",
    "\n",
    "def html_escape(text):\n",
    "    \"\"\"Produce entities within text.\"\"\"\n",
    "    return \"\".join(html_escape_table.get(c,c) for c in text)"
   ]
  },
  {
   "cell_type": "markdown",
   "metadata": {},
   "source": [
    "## Creating the markdown files\n",
    "\n",
    "This is where the heavy lifting is done. This loops through all the rows in the TSV dataframe, then starts to concatentate a big string (```md```) that contains the markdown for each type. It does the YAML metadata first, then does the description for the individual page."
   ]
  },
  {
   "cell_type": "code",
   "execution_count": 7,
   "metadata": {
    "collapsed": false,
    "deletable": true,
    "editable": true
   },
   "outputs": [],
   "source": [
    "import os\n",
    "for row, item in publications.iterrows():\n",
    "    \n",
    "    md_filename = str(item.pub_date) + \"-\" + item.url_slug + \".md\"\n",
    "    html_filename = str(item.pub_date) + \"-\" + item.url_slug\n",
    "    year = item.pub_date[:4]\n",
    "    \n",
    "    ## YAML variables\n",
    "    \n",
    "    md = \"---\\ntitle: \\\"\"   + item.title + '\"\\n'\n",
    "    \n",
    "    md += \"\"\"collection: publications\"\"\"\n",
    "    \n",
    "    md += \"\"\"\\npermalink: /publication/\"\"\" + html_filename\n",
    "    \n",
    "    if len(str(item.excerpt)) > 5:\n",
    "        md += \"\\nexcerpt: '\" + html_escape(item.excerpt) + \"'\"\n",
    "    \n",
    "    md += \"\\ndate: \" + str(item.pub_date) \n",
    "    \n",
    "    md += \"\\nvenue: '\" + html_escape(item.venue) + \"'\"\n",
    "    \n",
    "    if len(str(item.paper_url)) > 5:\n",
    "        md += \"\\npaperurl: '\" + item.paper_url + \"'\"\n",
    "    \n",
    "    md += \"\\ncitation: '\" + html_escape(item.citation) + \"'\"\n",
    "    \n",
    "    md += \"\\n---\"\n",
    "    \n",
    "    ## Markdown description for individual page\n",
    "        \n",
    "    if len(str(item.excerpt)) > 5:\n",
    "        md += \"\\n\" + html_escape(item.excerpt) + \"\\n\"\n",
    "    \n",
    "    if len(str(item.paper_url)) > 5:\n",
    "        md += \"\\n[Download paper here](\" + item.paper_url + \")\\n\" \n",
    "        \n",
    "    md += \"\\nRecommended citation: \" + item.citation\n",
    "    \n",
    "    md_filename = os.path.basename(md_filename)\n",
    "       \n",
    "    with open(\"../_publications/\" + md_filename, 'w') as f:\n",
    "        f.write(md)"
   ]
  },
  {
   "cell_type": "markdown",
   "metadata": {},
   "source": [
    "These files are in the publications directory, one directory below where we're working from."
   ]
  },
  {
   "cell_type": "code",
   "execution_count": 7,
   "metadata": {
    "collapsed": false,
    "deletable": true,
    "editable": true
   },
   "outputs": [],
   "source": [
    "!ls ../_publications/"
   ]
  },
  {
   "cell_type": "code",
   "execution_count": 8,
   "metadata": {
    "collapsed": false,
    "deletable": true,
    "editable": true
   },
   "outputs": [],
   "source": [
    "!cat ../_publications/2009-10-01-paper-title-number-1.md"
   ]
  },
  {
   "cell_type": "code",
   "execution_count": null,
   "metadata": {
    "collapsed": true,
    "deletable": true,
    "editable": true
   },
   "outputs": [],
   "source": []
  }
 ],
 "metadata": {
  "kernelspec": {
   "display_name": "Python 3",
   "language": "python",
   "name": "python3"
  },
  "language_info": {
   "codemirror_mode": {
    "name": "ipython",
    "version": 3
   },
   "file_extension": ".py",
   "mimetype": "text/x-python",
   "name": "python",
   "nbconvert_exporter": "python",
   "pygments_lexer": "ipython3",
   "version": "3.11.5"
  }
 },
 "nbformat": 4,
 "nbformat_minor": 0
}
